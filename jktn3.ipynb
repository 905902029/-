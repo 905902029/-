{
  "nbformat": 4,
  "nbformat_minor": 0,
  "metadata": {
    "colab": {
      "name": "Untitled38.ipynb",
      "provenance": [],
      "authorship_tag": "ABX9TyN4KEDF4l+AUuMBUguvSpJh",
      "include_colab_link": true
    },
    "kernelspec": {
      "name": "python3",
      "display_name": "Python 3"
    }
  },
  "cells": [
    {
      "cell_type": "markdown",
      "metadata": {
        "id": "view-in-github",
        "colab_type": "text"
      },
      "source": [
        "<a href=\"https://colab.research.google.com/github/905902029/-ai/blob/master/jktn3.ipynb\" target=\"_parent\"><img src=\"https://colab.research.google.com/assets/colab-badge.svg\" alt=\"Open In Colab\"/></a>"
      ]
    },
    {
      "cell_type": "code",
      "metadata": {
        "id": "DC8fhlhGYCmb",
        "colab_type": "code",
        "colab": {}
      },
      "source": [
        "\n",
        "import random\n",
        "\n",
        "\n",
        "dictionary=(\"cat\",\"dog\",\"rabbit\",\"bear\",\"sheep\")\n",
        "def hangman(word): \n",
        "    wrong = 0\n",
        "    HP = [\"\",\n",
        "              \"_______      \",\n",
        "              \"|      |     \",\n",
        "              \"|      |     \",\n",
        "              \"|      |     \",\n",
        "              \"|      |     \",\n",
        "              \"|      0     \",\n",
        "              \"|     /|\\    \",\n",
        "              \"|     / \\    \",\n",
        "              \"|            \"\n",
        "              ]\n",
        "    data = list(word)\n",
        "    board = [\"_\"] * len(word)\n",
        "    win = False\n",
        "    print(\"単語当てゲームへようこそ!(動物)\")\n",
        "    while wrong < len(HP) - 1:\n",
        "        print(\"\\n\")\n",
        "        msg = \"アルファベットを入力してください! \"\n",
        "        char = input(msg)\n",
        "        if char in data:\n",
        "            cind = data.index(char)\n",
        "            board[cind] = char\n",
        "            data[cind] = '0'\n",
        "        else:\n",
        "            wrong += 1\n",
        "        print(\" \".join(board))\n",
        "        e = wrong + 1\n",
        "        print(\"\\n\".join(HP[0:e]))\n",
        "        if \"_\" not in board:\n",
        "            print(\"勝利!\")\n",
        "            print(\" \".join(board))\n",
        "            win = True\n",
        "            break\n",
        "    if not win:\n",
        "        print(\"\\n\".join(HP[0:wrong+1]))\n",
        "        print(\"あなたは失敗しました。正解は{}\".format(word))\n",
        "sblsy = random.choice(dictionary)\n",
        "hangman(sblsy)"
      ],
      "execution_count": 0,
      "outputs": []
    }
  ]
}