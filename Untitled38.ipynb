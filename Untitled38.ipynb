{
  "nbformat": 4,
  "nbformat_minor": 0,
  "metadata": {
    "colab": {
      "name": "Untitled38.ipynb",
      "provenance": [],
      "authorship_tag": "ABX9TyOXK9Lj8ZcbrBHVtci2MZq0",
      "include_colab_link": true
    },
    "kernelspec": {
      "name": "python3",
      "display_name": "Python 3"
    }
  },
  "cells": [
    {
      "cell_type": "markdown",
      "metadata": {
        "id": "view-in-github",
        "colab_type": "text"
      },
      "source": [
        "<a href=\"https://colab.research.google.com/github/905902029/-ai/blob/master/Untitled38.ipynb\" target=\"_parent\"><img src=\"https://colab.research.google.com/assets/colab-badge.svg\" alt=\"Open In Colab\"/></a>"
      ]
    },
    {
      "cell_type": "code",
      "metadata": {
        "id": "1OP5LmrFBs5M",
        "colab_type": "code",
        "colab": {}
      },
      "source": [
        "#introuce random\n",
        "import random\n",
        "\n",
        "#建立随机单词库\n",
        "dictionary=(\"cat\",\"dog\",\"rabbit\",\"bear\",\"sheep\")\n",
        "def hangman(word): #関数を定義\n",
        "    wrong = 0#エラー数\n",
        "    HP = [\"\",\n",
        "              \"_______      \",\n",
        "              \"|      |     \",\n",
        "              \"|      |     \",\n",
        "              \"|      |     \",\n",
        "              \"|      |     \",\n",
        "              \"|      0     \",\n",
        "              \"|     /|\\    \",\n",
        "              \"|     / \\    \",\n",
        "              \"|            \"\n",
        "              ]\n",
        "    data = list(word)#リリースリストWORD\n",
        "    board = [\"_\"] * len(word)#ランダムな語長に基づく下線，\n",
        "    win = False#デフォルトは失敗です\n",
        "    print(\"単語当てゲームへようこそ!(動物)\")\n",
        "    while wrong < len(HP) - 1:#回数がヘルス値より小さい場合、実行を継続します\n",
        "        print(\"\\n\")\n",
        "        msg = \"アルファベットを入力してください! \"\n",
        "        char = input(msg)#アルファベットを入力してください!\n",
        "        if char in data:#判断のメカニズムは、アルファベットが正しければ\n",
        "            cind = data.index(char)#アルファベットの位置を判断する\n",
        "            board[cind] = char#アルファベットを置き換える\n",
        "            data[cind] = '0'#データベースの判定順序を更新する\n",
        "        else:#エラーカウンタはエラーカウンタが1加算される\n",
        "            wrong += 1\n",
        "        print(\" \".join(board))#正しくても間違っても単語板を印刷する\n",
        "        e = wrong + 1\n",
        "        print(\"\\n\".join(HP[0:e]))#小人の失敗位置を記録する\n",
        "        if \"_\" not in board:#如結果単語が全て負ければ勝ちとなり、単語が印刷される\n",
        "            print(\"勝利!\")\n",
        "            print(\" \".join(board))\n",
        "            win = True\n",
        "            break\n",
        "    if not win:\n",
        "        print(\"\\n\".join(HP[0:wrong+1]))#HPが足りなければ失敗する\n",
        "        print(\"あなたは失敗しました。正解は{}\".format(word))\n",
        "sblsy = random.choice(dictionary)#単語を無作為に抽出する\n",
        "hangman(sblsy)"
      ],
      "execution_count": 0,
      "outputs": []
    }
  ]
}